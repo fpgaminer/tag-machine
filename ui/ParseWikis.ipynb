{
 "cells": [
  {
   "cell_type": "code",
   "execution_count": 1,
   "metadata": {},
   "outputs": [],
   "source": [
    "import json\n",
    "import requests\n",
    "from collections import defaultdict\n",
    "from enum import Enum\n",
    "from dataclasses import dataclass\n",
    "from typing import Optional"
   ]
  },
  {
   "cell_type": "code",
   "execution_count": 2,
   "metadata": {},
   "outputs": [],
   "source": [
    "wiki_pages = [json.loads(line) for line in open('../wiki_pages000000000000.json', 'r')]\n",
    "wiki_pages_by_title = {page['title']: page for page in wiki_pages}"
   ]
  },
  {
   "cell_type": "code",
   "execution_count": 3,
   "metadata": {},
   "outputs": [],
   "source": [
    "response = requests.get('http://localhost:8086/tags')\n",
    "response.raise_for_status()\n",
    "tags = response.json()"
   ]
  },
  {
   "cell_type": "code",
   "execution_count": 4,
   "metadata": {},
   "outputs": [],
   "source": [
    "tag_pages = {}\n",
    "tag_names = [tag['name'] for tag in tags]\n",
    "tag_pages = {tag_name: wiki_pages_by_title[tag_name] for tag_name in tag_names if tag_name in wiki_pages_by_title}"
   ]
  },
  {
   "cell_type": "code",
   "execution_count": 7,
   "metadata": {},
   "outputs": [
    {
     "name": "stdout",
     "output_type": "stream",
     "text": [
      "Error parsing nanao_naru: Missing closing tag for b\n"
     ]
    }
   ],
   "source": [
    "TagType = Enum('TagType', 'bold italic link header text br')\n",
    "\n",
    "@dataclass\n",
    "class Tag:\n",
    "    type: TagType\n",
    "    content: str\n",
    "    arg: Optional[str] = None\n",
    "\n",
    "    def to_json(self):\n",
    "        return {\n",
    "            'type': self.type.name,\n",
    "            'content': self.content,\n",
    "            'arg': self.arg,\n",
    "        }\n",
    "\n",
    "def parse_helper(dtext: str, tag: str):\n",
    "    closingtag = dtext.lower().find(f'[/{tag}]')\n",
    "    if closingtag == -1:\n",
    "        raise ValueError(f'Missing closing tag for {tag}')\n",
    "    \n",
    "    content = dtext[len(tag) + 2:closingtag]\n",
    "    return content, dtext[closingtag + len(tag) + 3:]\n",
    "\n",
    "def parse_helper2(text: str, new_tag: Tag, result: list[Tag]):\n",
    "    if len(text) > 0:\n",
    "        result.append(Tag(TagType.text, text))\n",
    "    result.append(new_tag)\n",
    "    return ''\n",
    "\n",
    "def parse_dtext(dtext: str) -> list[Tag]:\n",
    "    result = []\n",
    "    text = ''\n",
    "\n",
    "    # First, let's deal with \\r\\n\n",
    "    dtext = dtext.replace('\\r\\n', '\\n')\n",
    "\n",
    "    while len(dtext) > 0:\n",
    "        if dtext.startswith('[b]') or dtext.startswith('[B]'):\n",
    "            content, dtext = parse_helper(dtext, 'b')\n",
    "            text = parse_helper2(text, Tag(TagType.bold, content), result)\n",
    "        elif dtext.startswith('[i]') or dtext.startswith('[I]'):\n",
    "            content, dtext = parse_helper(dtext, 'i')\n",
    "            text = parse_helper2(text, Tag(TagType.italic, content), result)\n",
    "        elif dtext.startswith('[['):\n",
    "            closingtag = dtext.find(']]')\n",
    "            if closingtag == -1:\n",
    "                raise ValueError('Missing closing tag for [[')\n",
    "            \n",
    "            content = dtext[2:closingtag]\n",
    "            dtext = dtext[closingtag + 2:]\n",
    "\n",
    "            if '|' in content:\n",
    "                link, title = content.split('|')\n",
    "            else:\n",
    "                link = title = content\n",
    "\n",
    "            text = parse_helper2(text, Tag(TagType.link, title, link), result)\n",
    "        elif (dtext.startswith('h') or dtext.startswith('H')) and len(dtext) >= 2 and dtext[1].isdigit() and dtext[2] == '.':\n",
    "            header = int(dtext[1])\n",
    "            # Look for the end of the line\n",
    "            end = dtext.find('\\n')\n",
    "            if end == -1:\n",
    "                end = len(dtext)\n",
    "            \n",
    "            content = dtext[3:end]\n",
    "            dtext = dtext[end + 1:]\n",
    "\n",
    "            text = parse_helper2(text, Tag(TagType.header, content, str(header)), result)\n",
    "        elif dtext[0] == '\\n':\n",
    "            dtext = dtext[1:]\n",
    "            text = parse_helper2(text, Tag(TagType.br, ''), result)\n",
    "        else:\n",
    "            text += dtext[0]\n",
    "            dtext = dtext[1:]\n",
    "    \n",
    "    if len(text) > 0:\n",
    "        result.append(Tag(TagType.text, text))\n",
    "    \n",
    "    return result\n",
    "\n",
    "parsed_tag_pages = {}\n",
    "\n",
    "for tag, page in tag_pages.items():\n",
    "    try:\n",
    "        parsed_tag_pages[tag] = parse_dtext(page['body'])\n",
    "    except ValueError as e:\n",
    "        print(f'Error parsing {tag}: {e}')"
   ]
  },
  {
   "cell_type": "code",
   "execution_count": 8,
   "metadata": {},
   "outputs": [],
   "source": [
    "json.dump({k: [x.to_json() for x in v] for k,v in parsed_tag_pages.items()}, open('src/parsed_tag_pages.json', 'w'), indent=4)"
   ]
  },
  {
   "cell_type": "code",
   "execution_count": null,
   "metadata": {},
   "outputs": [],
   "source": []
  },
  {
   "cell_type": "code",
   "execution_count": null,
   "metadata": {},
   "outputs": [],
   "source": []
  },
  {
   "cell_type": "code",
   "execution_count": 7,
   "metadata": {},
   "outputs": [
    {
     "data": {
      "text/plain": [
       "{'is_deleted': False,\n",
       " 'other_names': ['唇'],\n",
       " 'is_locked': False,\n",
       " 'body': 'The part of the anatomy most anime-style artists seem to forget. You use them to talk, to eat, to hold things, to kiss, and most importantly, to tease sexual organs. Images tagged \"lips\" should probably be centered around them, or at least have lips prominently displayed.\\r\\n\\r\\nh4. Colors\\r\\n\\r\\n* [[Aqua lips]] [tn]← [[aqua lipstick]][/tn]\\r\\n* [[Black lips]]\\r\\n* [[Blue lips]]\\r\\n* [[Grey lips]] [tn]← [[grey_lipstick]][/tn]\\r\\n* [[Green lips]] [tn]← [[green lipstick]][/tn]\\r\\n* [[Orange lips]]\\r\\n* [[Pink lips]]\\r\\n* [[Purple lips]]\\r\\n* [[Red lips]]\\r\\n* [[Shiny lips]]\\r\\n* [[Yellow lips]]\\r\\n[tn]See also the [[lipstick]] colors[/tn]\\r\\n\\r\\nh4. Actions/Positions\\r\\n\\r\\n* [[Closed mouth]]\\r\\n* [[Cum on lips]]\\r\\n* [[Licking lips]]\\r\\n* [[Lip biting]]\\r\\n* [[Open mouth]]\\r\\n* [[Parted lips]]\\r\\n* [[Puckered lips]]\\r\\n* [[Pursed lips]]\\r\\n* [[Spread lips]]\\r\\n\\r\\nh4. See also\\r\\n\\r\\n* [[Dry lips]]\\r\\n* [[Lip balm]]\\r\\n* [[Lip piercing]]\\r\\n* [[Lips print]]\\r\\n* [[Pouty lips]]\\r\\n* [[Puffy lips]]\\r\\n* [[Thick lips]]',\n",
       " 'title': 'lips',\n",
       " 'created_at': '2008-02-17 18:13:00.15 UTC',\n",
       " 'updated_at': '2021-02-19 06:49:36.757 UTC',\n",
       " 'id': '6701'}"
      ]
     },
     "execution_count": 7,
     "metadata": {},
     "output_type": "execute_result"
    }
   ],
   "source": [
    "tag_pages['lips']"
   ]
  },
  {
   "cell_type": "code",
   "execution_count": null,
   "metadata": {},
   "outputs": [],
   "source": []
  }
 ],
 "metadata": {
  "kernelspec": {
   "display_name": "tmpenv4",
   "language": "python",
   "name": "python3"
  },
  "language_info": {
   "codemirror_mode": {
    "name": "ipython",
    "version": 3
   },
   "file_extension": ".py",
   "mimetype": "text/x-python",
   "name": "python",
   "nbconvert_exporter": "python",
   "pygments_lexer": "ipython3",
   "version": "3.10.11"
  },
  "orig_nbformat": 4
 },
 "nbformat": 4,
 "nbformat_minor": 2
}
